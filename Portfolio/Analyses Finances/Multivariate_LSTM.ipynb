{
 "cells": [
  {
   "cell_type": "markdown",
   "id": "f000aa76-fcfb-4ee2-89a5-7d6b811091f4",
   "metadata": {},
   "source": [
    "# Bienvenue dans ce nouveau notebook ! \n",
    "\n",
    "Nous sommes sur le point d'explorer des techniques de pointe en matière d'apprentissage automatique appliqué au trading algorithmique sur le marché des changes, ou Forex.\n",
    "\n",
    "Dans ce projet, nous allons déployer un modèle de réseau de neurones LSTM (Long Short-Term Memory) multivarié pour prédire les rendements futurs d'un ensemble de paires de devises. Les LSTM sont particulièrement adaptés à la modélisation de séries temporelles comme les cours des devises, car ils sont capables de mémoriser les informations à long terme et d'apprendre de séquences de données temporelles, ce qui est idéal pour notre scénario.\n",
    "\n",
    "L'approche multivariée signifie que nous allons inclure plusieurs séries de prix de devises comme entrées pour notre modèle. Cela nous permet de tirer parti des interactions et des dépendances entre différentes paires de devises. Le Forex étant un marché interconnecté, l'information contenue dans le mouvement de plusieurs paires de devises peut améliorer la performance de notre modèle de prédiction.\n",
    "\n",
    "Ces prédictions seront la base de notre stratégie de trading. Si nos études montrent des résultats positifs, nous envisagerons d'implémenter cette approche dans un algorithme de trading en temps réel. En fin de compte, nous cherchons à développer une stratégie solide qui puisse naviguer avec succès dans le marché dynamique et souvent imprévisible du Forex.\n",
    "\n",
    "Soyez prêt pour une exploration passionnante des possibilités offertes par l'apprentissage profond dans le domaine du trading algorithmique !"
   ]
  },
  {
   "cell_type": "code",
   "execution_count": null,
   "id": "4790f5cf",
   "metadata": {},
   "outputs": [],
   "source": [
    "import pandas as pd\n",
    "import MetaTrader5 as mt5\n",
    "import numpy as np\n",
    "import tensorflow as tf\n",
    "from tensorflow.keras.models import Model, Sequential\n",
    "from tensorflow.keras.layers import Input, LSTM, Dense, Concatenate\n",
    "from tensorflow.keras.callbacks import EarlyStopping\n",
    "from tensorflow.keras.optimizers import RMSprop, Adagrad, Adamax, Adam\n",
    "import sys\n",
    "import matplotlib.pyplot as plt\n",
    "sys.path.append(r'C:\\Users\\ftiag\\Desktop\\Business, trading et investissement\\Business\\modules')\n",
    "from research_tools import get_clean_mt5_data\n",
    "from sklearn.preprocessing import StandardScaler\n",
    "from scipy.stats import spearmanr, pearsonr\n",
    "\n",
    "mt5.initialize()\n",
    "\n",
    "login_mt5 = 1051534030\n",
    "mdp_mt5 = 'FG2SF2M74R'\n",
    "server = 'FTMO-Demo'\n",
    "\n",
    "mt5.login(login_mt5, mdp_mt5, server)"
   ]
  },
  {
   "cell_type": "markdown",
   "id": "d7019add",
   "metadata": {},
   "source": [
    "# Préparation des données pour le réseau de neurones LSTM\n",
    "\n",
    "La préparation des données pour le modèle LSTM nécessite une structuration particulière, puisque les LSTM nécessitent des données d'entrée sous la forme d'un tenseur 3D. Cette forme de données est nécessaire pour exprimer les informations temporelles dans nos données, ainsi que pour gérer plusieurs séries d'entrées dans le cas d'un modèle multivarié.\n",
    "\n",
    "La classe `RNNDatas` ci-dessus effectue précisément cette tâche. Elle commence par calculer les rendements logarithmiques de nos données sur le marché des changes. Ces rendements sont ensuite décalés pour créer un ensemble de données de séries temporelles décalées, ou lagged, qui serviront d'entrées à notre modèle LSTM. \n",
    "\n",
    "Les méthodes `get_returns` et `create_multivariate_rnn_data` s'occupent de ces étapes, respectivement. La méthode `create_multivariate_rnn_data` regroupe ensuite ces séries de rendements décalés en un seul tenseur 3D, prêt à être utilisé par notre modèle LSTM.\n",
    "\n",
    "Ce tenseur 3D a une structure spécifique : il contient des informations sur le rendement de chaque devise à différents moments (dimension des \"échantillons\"), pour chaque devise (dimension des \"caractéristiques\") et pour chaque décalage temporel (dimension \"temporelle\"). \n",
    "\n",
    "Cette structuration de données permet à notre modèle LSTM d'apprendre à la fois des tendances temporelles au sein de chaque série de devises, mais aussi des interactions entre différentes paires de devises. \n",
    "\n",
    "En outre, cette classe fournit également des méthodes pour récupérer les informations sur les indices des devises (`get_index_to_ticker`) et les dates (`get_index_date`), ce qui sera utile pour l'interprétation de nos prédictions ultérieures."
   ]
  },
  {
   "cell_type": "code",
   "execution_count": 12,
   "id": "3a1e6a83",
   "metadata": {},
   "outputs": [],
   "source": [
    "class RNNDatas:\n",
    "    \n",
    "    def __init__(self, data, rnn_lag):\n",
    "        \n",
    "        self.data = data\n",
    "        self.rnn_lag = rnn_lag\n",
    "    \n",
    "    def get_returns(self):\n",
    "        \n",
    "        returns = (self\n",
    "                   .data\n",
    "                   .groupby(level=0, group_keys=False)\n",
    "                   .apply(lambda x: np.log(x.close/x.close.shift(1)))\n",
    "                   .to_frame()\n",
    "                   .rename(columns={'close' : 'returns'}))\n",
    "        \n",
    "        df_list = [returns]\n",
    "        \n",
    "        for lag in range(1, self.rnn_lag + 1):\n",
    "            \n",
    "            df_list.append(returns\n",
    "                           .groupby(level=0, group_keys=False)\n",
    "                           .apply(lambda x: x.returns.shift(lag))\n",
    "                           .rename(f'returns_lag{lag}'))\n",
    "            \n",
    "        returns = pd.concat(df_list, axis=1)\n",
    "            \n",
    "        returns.dropna(how='any', inplace=True)\n",
    "        \n",
    "        return returns\n",
    "    \n",
    "    \n",
    "    def create_multivariate_rnn_data(self):\n",
    "        \n",
    "        returns = self.get_returns()\n",
    "        returns = returns.unstack(0).fillna(method='ffill').dropna().stack(level=1).swaplevel(0).sort_index()\n",
    "        self.index_date = returns.index.get_level_values(1).unique()\n",
    "        y = []\n",
    "        X = []\n",
    "        index_converter = {}\n",
    "        for index, tick in enumerate(returns.index.levels[0]):\n",
    "            \n",
    "            index_converter[index] = tick\n",
    "            y.append(np.array(returns.loc[tick].returns))\n",
    "            X.append(np.array(returns.loc[tick].drop(['returns'], axis=1)))\n",
    "        \n",
    "        X = np.swapaxes(np.array(X).T, 0, 1)\n",
    "        y = np.array(y).T\n",
    "        self.index_converter = index_converter\n",
    "        return X, y\n",
    "    \n",
    "    @property\n",
    "    def get_index_to_ticker(self):\n",
    "        return self.index_converter\n",
    "    @property\n",
    "    def get_index_date(self):\n",
    "        return self.index_date\n",
    "        "
   ]
  },
  {
   "cell_type": "markdown",
   "id": "1b847c87-6c33-4afc-87ac-3ec268f4edd9",
   "metadata": {},
   "source": [
    "# Création du tenseur 3D pour notre modèle LSTM\n",
    "\n",
    "La taille du tenseur créé pour notre modèle LSTM est de (6456, 300, 28). Cette taille correspond à la structure que nous avons décrite précédemment : \n",
    "\n",
    "- Nous avons 6456 échantillons temporels pour chacune de nos séries de devises. Chaque échantillon correspond à une observation de rendement à un moment donné.\n",
    "- Pour chaque échantillon, nous avons 300 points de données temporels décalés, ou lagged. Ces points de données représentent l'historique des rendements pour la période de temps que nous avons choisie pour entrainer notre modèle LSTM. C'est ce que nous avons spécifié avec le paramètre `300` lors de la création de l'instance `RNNDatas`.\n",
    "- Enfin, nous avons 28 séries différentes, correspondant à chacune de nos paires de devises. C'est ce que notre modèle LSTM utilisera pour apprendre les interactions entre différentes paires de devises.\n",
    "\n",
    "Cette structure de données est donc prête à être utilisée pour entrainer notre modèle LSTM. Dans le prochain code, nous construirons et entrainerons ce modèle pour prédire les rendements futurs sur le marché des changes. Si nos tests et nos évaluations montrent que ce modèle donne des résultats précis et fiables, nous pourrons alors l'intégrer dans une stratégie de trading en temps réel pour notre portefeuille de devises."
   ]
  },
  {
   "cell_type": "code",
   "execution_count": 13,
   "id": "7ae41e7f-f0e0-4499-85cd-dfffaf018cc7",
   "metadata": {},
   "outputs": [],
   "source": [
    "tickers = ['AUDCAD', 'AUDJPY', 'AUDNZD', 'AUDCHF', 'AUDUSD', 'GBPAUD', \n",
    "           'GBPCAD', 'GBPJPY', 'GBPNZD', 'GBPCHF', 'GBPUSD', 'CADJPY',\n",
    "           'CADCHF', 'EURAUD', 'EURGBP', 'EURCAD', 'EURJPY', 'EURCHF', \n",
    "           'EURUSD', 'EURNZD', 'NZDCAD', 'NZDCHF', 'NZDUSD', 'NZDJPY',\n",
    "           'CHFJPY', 'USDCAD', 'USDCHF', 'USDJPY']"
   ]
  },
  {
   "cell_type": "code",
   "execution_count": 14,
   "id": "df0fcd46",
   "metadata": {},
   "outputs": [],
   "source": [
    "data = get_clean_mt5_data(tickers, interval=mt5.TIMEFRAME_H4, n_bars=6700)"
   ]
  },
  {
   "cell_type": "code",
   "execution_count": 16,
   "id": "21b710c7",
   "metadata": {},
   "outputs": [],
   "source": [
    "clean_data = RNNDatas(data, 300)\n",
    "X, y = clean_data.create_multivariate_rnn_data()"
   ]
  },
  {
   "cell_type": "code",
   "execution_count": 342,
   "id": "85b2901c",
   "metadata": {},
   "outputs": [
    {
     "data": {
      "text/plain": [
       "(6456, 300, 28)"
      ]
     },
     "execution_count": 342,
     "metadata": {},
     "output_type": "execute_result"
    }
   ],
   "source": [
    "X.shape"
   ]
  },
  {
   "cell_type": "markdown",
   "id": "ff5bd696-6b4d-4ffa-967d-04b3a8728bca",
   "metadata": {},
   "source": [
    "# Initialisation et entrainement du modèle LSTM\n",
    "\n",
    "Nous avons maintenant nos données de marché préparées et nous sommes prêts à initialiser et entraîner notre modèle LSTM. \n",
    "\n",
    "Nous utilisons une architecture simple pour notre modèle, qui comprend une couche LSTM et une couche de sortie Dense. La couche LSTM a 128 unités, et l'input_shape est défini par la taille de notre fenêtre (300 points de données temporels) et le nombre de caractéristiques (28, correspondant à nos 28 paires de devises).\n",
    "\n",
    "Notre couche de sortie Dense a le même nombre d'unités que le nombre de paires de devises, car nous prévoyons un rendement pour chaque paire de devises.\n",
    "\n",
    "Il est à noter que, bien que la normalisation des données soit souvent une bonne pratique lors de l'entrainement des modèles de deep learning, nous avons trouvé que la multiplication de nos données par un facteur de 1000 donnait de meilleurs résultats dans ce cas. Cela aide à faciliter la convergence de l'algorithme de descente de gradient. Comme nos données de rendement sont toutes du même ordre de grandeur, l'utilisation d'un StandardScaler a peu d'effet.\n",
    "\n",
    "Nous sommes maintenant prêts à entraîner notre modèle sur nos données d'entrainement, et ensuite à l'évaluer sur nos données de test. "
   ]
  },
  {
   "cell_type": "code",
   "execution_count": 345,
   "id": "b0e8e2be",
   "metadata": {},
   "outputs": [],
   "source": [
    "X *= 1000\n",
    "y *= 1000\n",
    "X_train, y_train = X[:-500], y[:-500]\n",
    "\n",
    "X_test, y_test = X[-500:], y[-500:]"
   ]
  },
  {
   "cell_type": "code",
   "execution_count": 346,
   "id": "7185456b",
   "metadata": {},
   "outputs": [],
   "source": [
    "#scaler = StandardScaler()\n",
    "#for i in range(X.shape[2]):\n",
    "    #X[:, :, i] = scaler.fit_transform(X[:, :, i])"
   ]
  },
  {
   "cell_type": "code",
   "execution_count": 420,
   "id": "4d71d1b9",
   "metadata": {},
   "outputs": [],
   "source": [
    "window_size = X.shape[1]\n",
    "n_features = output_size = len(tickers)\n",
    "lstm_units = 128\n",
    "dense_units= 24"
   ]
  },
  {
   "cell_type": "code",
   "execution_count": 404,
   "id": "7a1cfe7d",
   "metadata": {},
   "outputs": [],
   "source": [
    "lstm_model = Sequential([\n",
    "    LSTM(units=lstm_units,\n",
    "         input_shape=(window_size, n_features), name='LSTM'),\n",
    "    Dense(output_size, name='Output')\n",
    "])"
   ]
  },
  {
   "cell_type": "code",
   "execution_count": 405,
   "id": "b82c66a1",
   "metadata": {},
   "outputs": [
    {
     "name": "stdout",
     "output_type": "stream",
     "text": [
      "Model: \"sequential_394\"\n",
      "_________________________________________________________________\n",
      "Layer (type)                 Output Shape              Param #   \n",
      "=================================================================\n",
      "LSTM (LSTM)                  (None, 256)               291840    \n",
      "_________________________________________________________________\n",
      "Output (Dense)               (None, 28)                7196      \n",
      "=================================================================\n",
      "Total params: 299,036\n",
      "Trainable params: 299,036\n",
      "Non-trainable params: 0\n",
      "_________________________________________________________________\n"
     ]
    }
   ],
   "source": [
    "lstm_model.summary()"
   ]
  },
  {
   "cell_type": "markdown",
   "id": "14f7e67a-4132-4d66-abb0-1dc4241dded6",
   "metadata": {},
   "source": [
    "Après avoir défini notre modèle, nous avons procédé à la phase d'apprentissage. Pour cela, nous avons utilisé la fonction de perte \"MeanAbsoluteError\" et l'optimiseur \"Adamax\" avec un taux d'apprentissage de 0.3. De plus, nous avons mis en place une règle d'arrêt précoce (EarlyStopping) qui interrompt l'apprentissage si la perte sur le jeu de validation ne diminue pas pendant 3 époques consécutives.\n",
    "\n",
    "Nous avons formé le modèle sur 10 époques, avec une taille de lot de 256, sans mélanger les données pour maintenir la dépendance temporelle entre nos observations. Nous avons également fourni nos données de test pour la validation durant l'apprentissage.\n",
    "\n",
    "Une fois l'apprentissage terminé, nous avons utilisé notre modèle pour faire des prédictions sur l'ensemble de test. Nous avons tracé les rendements réels et les rendements prédits pour l'une des paires de devises.\n",
    "\n",
    "Pour évaluer la performance de notre modèle, nous avons calculé le coefficient de corrélation de Spearman pour chaque paire de devises, puis nous avons calculé la moyenne de ces coefficients. Le coefficient de Spearman est une mesure de la corrélation non linéaire et monotonique entre les valeurs réelles et les prédictions.\n",
    "\n",
    "Le score moyen que nous avons obtenu est de 0.0292, indiquant une corrélation assez faible entre les valeurs prédites et réelles. Dans le domaine de la finance, il est souvent difficile d'obtenir des scores élevés, c'est pourquoi nous utilisons un coefficient de corrélation. Un résultat de 3% peut être considéré comme correct, cependant il nécessite une analyse plus approfondie, comme une validation croisée, pour évaluer de manière plus précise la pertinence de notre modèle pour une utilisation dans une stratégie de trading en temps réel."
   ]
  },
  {
   "cell_type": "code",
   "execution_count": 279,
   "id": "16fa0da3",
   "metadata": {},
   "outputs": [],
   "source": [
    "early_stop = EarlyStopping(monitor='val_loss', patience=3)"
   ]
  },
  {
   "cell_type": "code",
   "execution_count": 280,
   "id": "143ac4d0",
   "metadata": {},
   "outputs": [],
   "source": [
    "lstm_model.compile(loss=tf.keras.losses.MeanAbsoluteError(), optimizer=Adamax(learning_rate=0.3))"
   ]
  },
  {
   "cell_type": "code",
   "execution_count": null,
   "id": "2faddc80",
   "metadata": {},
   "outputs": [],
   "source": [
    "res = lstm_model.fit(X_train, \n",
    "                     y_train, \n",
    "                     epochs=10, \n",
    "                     batch_size=256, \n",
    "                     shuffle=False, \n",
    "                     validation_data=(X_test, y_test),\n",
    "                     callbacks=[early_stop])"
   ]
  },
  {
   "cell_type": "code",
   "execution_count": null,
   "id": "bad0fb0e",
   "metadata": {},
   "outputs": [],
   "source": [
    "preds = lstm_model.predict(X_test)"
   ]
  },
  {
   "cell_type": "code",
   "execution_count": 381,
   "id": "03b73604",
   "metadata": {},
   "outputs": [
    {
     "data": {
      "text/plain": [
       "[<matplotlib.lines.Line2D at 0x13ea6817c40>]"
      ]
     },
     "execution_count": 381,
     "metadata": {},
     "output_type": "execute_result"
    },
    {
     "data": {
      "image/png": "[encoded data removed]",
      "text/plain": [
       "<Figure size 640x480 with 1 Axes>"
      ]
     },
     "metadata": {},
     "output_type": "display_data"
    }
   ],
   "source": [
    "plt.plot(y_test[:500, 5])\n",
    "plt.plot(preds[:500, 5])"
   ]
  },
  {
   "cell_type": "code",
   "execution_count": 383,
   "id": "3bcc3a48",
   "metadata": {},
   "outputs": [
    {
     "data": {
      "text/plain": [
       "0.029201957324833827"
      ]
     },
     "execution_count": 383,
     "metadata": {},
     "output_type": "execute_result"
    }
   ],
   "source": [
    "score = []\n",
    "for i in range(28):\n",
    "    score.append(spearmanr(y_test[:100, i], preds[:100, i]).statistic)\n",
    "    \n",
    "np.mean(score)"
   ]
  },
  {
   "cell_type": "code",
   "execution_count": null,
   "id": "ceb35517-7427-46bf-a843-4f00497d6d13",
   "metadata": {},
   "outputs": [],
   "source": []
  },
  {
   "cell_type": "code",
   "execution_count": 350,
   "id": "e09e7cf2",
   "metadata": {},
   "outputs": [],
   "source": [
    "test_window = 500\n",
    "train_window = 2000\n",
    "n_splits = int(X.shape[0]/test_window-train_window/test_window-1)\n",
    "val_window = 0\n",
    "val_end = True\n",
    "index_to_ticker = clean_data.get_index_to_ticker()\n",
    "date_index = clean_data.get_index_date()"
   ]
  },
  {
   "cell_type": "code",
   "execution_count": 351,
   "id": "26996c38",
   "metadata": {},
   "outputs": [
    {
     "data": {
      "text/plain": [
       "7"
      ]
     },
     "execution_count": 351,
     "metadata": {},
     "output_type": "execute_result"
    }
   ],
   "source": [
    "n_splits"
   ]
  },
  {
   "cell_type": "markdown",
   "id": "1a8a6e5b-2995-47b7-a4c3-7225e04686cc",
   "metadata": {},
   "source": [
    "Après avoir initialisé notre modèle RNN, nous avons effectué une validation croisée pour l'ajuster. Le découpage des données en sous-ensembles d'entraînement, de validation et de test se fait de manière séquentielle pour respecter l'ordre chronologique des données, un aspect essentiel lorsqu'on travaille avec des séries temporelles.\n",
    "\n",
    "La boucle d'entraînement du modèle tourne sur chaque époque, entraînant le modèle sur l'ensemble d'entraînement et prédisant les rendements sur l'ensemble de test. Les prédictions sont stockées dans une liste pour une évaluation ultérieure.\n",
    "\n",
    "Il est important de noter que j'ai testé différentes combinaisons de paramètres pour le modèle LSTM. Cependant, j'ai constaté qu'une petite quantité d'époques tend à produire de meilleurs résultats, ce qui suggère que le modèle peut avoir tendance à surajuster les données lorsqu'il est entraîné pendant trop longtemps. Cette observation n'est pas rare dans le domaine de la finance où les réseaux de neurones tendent à offrir des performances optimales avec un nombre réduit d'époques. \n",
    "\n",
    "La complexité et la volatilité des données financières peuvent rendre difficile l'obtention d'un modèle stable et performant. Les caractéristiques dynamiques et évolutives des marchés financiers imposent un défi supplémentaire qui doit être soigneusement pris en compte lors de la conception et de l'entraînement de modèles de machine learning dans ce domaine."
   ]
  },
  {
   "cell_type": "code",
   "execution_count": 352,
   "id": "1825b369",
   "metadata": {},
   "outputs": [],
   "source": [
    "class MultivariateRNNCrossVal:\n",
    "    \n",
    "    def __init__(self, test_window, train_window, val_window, n_splits, val_end=False):\n",
    "        \n",
    "        self.test_window = test_window\n",
    "        self.train_window = train_window\n",
    "        self.n_splits = n_splits\n",
    "        self.val_end = val_end\n",
    "        self.val_window = val_window\n",
    "        \n",
    "    def split(self, X):\n",
    "        \n",
    "        add_window = 0\n",
    "        for index in range(self.n_splits):\n",
    "            \n",
    "            \n",
    "            if not self.val_end:\n",
    "                train_idx = np.arange(add_window + val_window, self.train_window + add_window)\n",
    "                val_idx = np.arange(add_window, val_window + add_window)\n",
    "            else:\n",
    "                train_idx = np.arange(add_window, self.train_window + add_window - val_window)\n",
    "                val_idx = np.arange(self.train_window + add_window - val_window, self.train_window + add_window)\n",
    "                \n",
    "            test_idx = np.arange(self.train_window + add_window, self.test_window + self.train_window + add_window)\n",
    "            add_window += self.test_window\n",
    "            yield train_idx, val_idx, test_idx\n",
    "            \n",
    "    def get_n_splits(self):\n",
    "        return self.n_splits\n",
    "        "
   ]
  },
  {
   "cell_type": "code",
   "execution_count": 353,
   "id": "77ce43bf",
   "metadata": {},
   "outputs": [
    {
     "name": "stdout",
     "output_type": "stream",
     "text": [
      "<class 'pandas.core.frame.DataFrame'>\n",
      "RangeIndex: 6456 entries, 0 to 6455\n",
      "Data columns (total 1 columns):\n",
      " #   Column  Non-Null Count  Dtype         \n",
      "---  ------  --------------  -----         \n",
      " 0   time    6456 non-null   datetime64[ns]\n",
      "dtypes: datetime64[ns](1)\n",
      "memory usage: 50.6 KB\n"
     ]
    }
   ],
   "source": [
    "pd.DataFrame(date_index).info()"
   ]
  },
  {
   "cell_type": "code",
   "execution_count": 449,
   "id": "23c814c9",
   "metadata": {},
   "outputs": [
    {
     "name": "stdout",
     "output_type": "stream",
     "text": [
      "0\n",
      "32/32 [==============================] - 2s 20ms/step - loss: 1515.3872\n",
      "32/32 [==============================] - 1s 18ms/step - loss: 1576.9132\n",
      "32/32 [==============================] - 1s 18ms/step - loss: 1600.0553\n",
      "32/32 [==============================] - 1s 19ms/step - loss: 1394.3125\n",
      "32/32 [==============================] - 1s 18ms/step - loss: 1283.0247\n",
      "5\n",
      "32/32 [==============================] - 1s 18ms/step - loss: 1294.9097\n",
      "32/32 [==============================] - 1s 18ms/step - loss: 1426.3845\n"
     ]
    }
   ],
   "source": [
    "cv = MultivariateRNNCrossVal(test_window=test_window,\n",
    "                             train_window=train_window,\n",
    "                             n_splits=n_splits,\n",
    "                             val_window=val_window,\n",
    "                             val_end=val_end)\n",
    "\n",
    "lstm_model = Sequential([\n",
    "                        LSTM(units=lstm_units,\n",
    "                             input_shape=(window_size, n_features), name='LSTM'),\n",
    "                        Dense(output_size, name='Output')\n",
    "                        ])\n",
    "lstm_model.compile(loss=tf.keras.losses.MeanAbsoluteError(), optimizer=Adamax(learning_rate=0.1))\n",
    "\n",
    "predictions = []\n",
    "for i, (train_idx, val_idx, test_idx) in enumerate(cv.split(X)):\n",
    "    if i%5 == 0:\n",
    "        print(i)\n",
    "    X_train, y_train = X[train_idx], y[train_idx]\n",
    "    #X_val, y_val = X[val_idx], y[val_idx]\n",
    "    X_test, y_test = X[test_idx], y[test_idx]\n",
    "    lstm_model.fit(X_train, \n",
    "                   y_train, \n",
    "                   epochs=1, \n",
    "                   batch_size=64, \n",
    "                   shuffle=False, \n",
    "                   #validation_data=(X_val, y_val),\n",
    "                   verbose=1)\n",
    "    preds = lstm_model.predict(X_test)\n",
    "    df_preds = []\n",
    "    for i in range(y_test.shape[1]):\n",
    "        pred = preds[:, i]\n",
    "        ticker = np.full(shape=pred.shape[0], fill_value=index_to_ticker[i])\n",
    "        df_pred = pd.DataFrame({'ticker': ticker, \n",
    "                                'date': date_index[test_idx], \n",
    "                                'prediction': pred, \n",
    "                                'actual': y_test[:, i]})\n",
    "\n",
    "        df_preds.append(df_pred)\n",
    "\n",
    "    df_preds = pd.concat(df_preds, axis=0)\n",
    "    df_preds = df_preds.set_index(['ticker', 'date'])\n",
    "    predictions.append(df_preds)"
   ]
  },
  {
   "cell_type": "markdown",
   "id": "95818547-10d7-4270-bb0d-073a0df6a0cb",
   "metadata": {},
   "source": [
    "Après avoir combiné toutes les prédictions en un seul dataframe, nous calculons le coefficient de corrélation de Spearman pour chaque paire de devises. Pour rappel, ce coefficient est une mesure de la corrélation non linéaire entre les valeurs réelles et les prédictions. Le tableau suivant montre les résultats obtenus :\n",
    "\n",
    "|   Devise   | Coefficient de Spearman |\n",
    "|:----------:|:----------------------:|\n",
    "|   GBPJPY   |       0.0017           |\n",
    "|   GBPUSD   |       0.0089           |\n",
    "|   EURGBP   |       0.0321           |\n",
    "|   EURUSD   |       0.0136           |\n",
    "|   USDCAD   |       0.0170           |\n",
    "|   USDJPY   |       0.0258           |\n",
    "\n",
    "De plus, nous avons calculé le coefficient de corrélation de Spearman global qui est de 0.0194. Ces résultats confirment que le modèle a une faible corrélation avec les vrais rendements.\n",
    "\n",
    "Il est important de noter que dans le domaine de la finance, il est souvent difficile d'obtenir des corrélations élevées entre les prédictions et les valeurs réelles. Les marchés financiers sont complexes, dynamiques et influencés par de nombreux facteurs, ce qui rend les prédictions précises extrêmement difficiles. Ainsi, obtenir des coefficients de corrélation faibles est une caractéristique courante dans le domaine de la finance.\n",
    "\n",
    "Néanmoins, ces résultats fournissent une première indication de la performance du modèle et soulignent la nécessité d'une analyse plus approfondie et d'autres améliorations avant de pouvoir l'utiliser dans un contexte de trading en temps réel.\n",
    "\n",
    "Finalement, nous avons enregistré les prédictions dans une base de données SQLite pour une utilisation future. Cela nous permettra de revenir à ces prédictions à tout moment sans avoir à re-exécuter l'ensemble du processus.\n",
    "\n",
    "Maintenant, un petit coup d'oeil sur le contenu de notre base de données avec la requête SQL `SELECT * FROM first_lstm_predictions` confirme que les données ont été correctement sauvegardées.\n",
    "\n",
    "Bien que ces résultats soient assez modestes, ils peuvent être considérés comme une première étape dans la création d'un système de prédiction pour le trading forex. Des améliorations pourraient être apportées en affinant les hyperparamètres du modèle, en incorporant d'autres caractéristiques, ou en utilisant des architectures de réseaux de neurones plus avancées."
   ]
  },
  {
   "cell_type": "code",
   "execution_count": 450,
   "id": "1901a3b9",
   "metadata": {},
   "outputs": [
    {
     "data": {
      "text/plain": [
       "{1: SignificanceResult(statistic=0.021362710078344796, pvalue=0.0005180196835342677),\n",
       " 2: SignificanceResult(statistic=0.011829235379600315, pvalue=0.054605822774210375),\n",
       " 3: SignificanceResult(statistic=0.012623195543436631, pvalue=0.04026586567240341),\n",
       " 5: SignificanceResult(statistic=0.016691361677129406, pvalue=0.0066861290620002295),\n",
       " 6: SignificanceResult(statistic=0.025977653306625586, pvalue=2.428095515835097e-05),\n",
       " 9: SignificanceResult(statistic=-0.0033378515740048117, pvalue=0.5876032330679882),\n",
       " 12: SignificanceResult(statistic=0.005621093669980345, pvalue=0.3610934127508002),\n",
       " 17: SignificanceResult(statistic=-0.002875271557982914, pvalue=0.640388860452715),\n",
       " 25: SignificanceResult(statistic=0.01340012236487243, pvalue=0.029461410506384508)}"
      ]
     },
     "execution_count": 450,
     "metadata": {},
     "output_type": "execute_result"
    }
   ],
   "source": [
    "epochs_dict"
   ]
  },
  {
   "cell_type": "code",
   "execution_count": 451,
   "id": "4dced927",
   "metadata": {},
   "outputs": [],
   "source": [
    "predictions = pd.concat(predictions, axis=0).loc[['GBPJPY', 'GBPUSD', 'EURGBP', 'EURUSD', 'USDCAD', 'USDJPY']]"
   ]
  },
  {
   "cell_type": "code",
   "execution_count": 452,
   "id": "b48f1393",
   "metadata": {},
   "outputs": [
    {
     "name": "stdout",
     "output_type": "stream",
     "text": [
      "SignificanceResult(statistic=0.0016998228834486648, pvalue=0.9199259251983831)\n",
      "SignificanceResult(statistic=0.008914205558173526, pvalue=0.5980591466822069)\n",
      "SignificanceResult(statistic=0.03206046236509638, pvalue=0.057889663140344876)\n",
      "SignificanceResult(statistic=0.013615487363781235, pvalue=0.4206738760000759)\n",
      "SignificanceResult(statistic=0.017012022548419596, pvalue=0.3143395102271204)\n",
      "SignificanceResult(statistic=0.025766638286934186, pvalue=0.1274878809569319)\n"
     ]
    }
   ],
   "source": [
    "for i in ['GBPJPY', 'GBPUSD', 'EURGBP', 'EURUSD', 'USDCAD', 'USDJPY']:\n",
    "    \n",
    "    print(spearmanr(predictions.loc[i]['prediction'], \n",
    "              predictions.loc[i]['actual']))"
   ]
  },
  {
   "cell_type": "code",
   "execution_count": 453,
   "id": "51bd1ebd",
   "metadata": {},
   "outputs": [
    {
     "data": {
      "text/plain": [
       "SignificanceResult(statistic=0.019396746718553758, pvalue=0.004939503917788524)"
      ]
     },
     "execution_count": 453,
     "metadata": {},
     "output_type": "execute_result"
    }
   ],
   "source": [
    "spearmanr(predictions.prediction, predictions.actual)"
   ]
  },
  {
   "cell_type": "code",
   "execution_count": 454,
   "id": "fd6b6f78",
   "metadata": {},
   "outputs": [
    {
     "data": {
      "text/html": [
       "<div>\n",
       "<style scoped>\n",
       "    .dataframe tbody tr th:only-of-type {\n",
       "        vertical-align: middle;\n",
       "    }\n",
       "\n",
       "    .dataframe tbody tr th {\n",
       "        vertical-align: top;\n",
       "    }\n",
       "\n",
       "    .dataframe thead th {\n",
       "        text-align: right;\n",
       "    }\n",
       "</style>\n",
       "<table border=\"1\" class=\"dataframe\">\n",
       "  <thead>\n",
       "    <tr style=\"text-align: right;\">\n",
       "      <th></th>\n",
       "      <th></th>\n",
       "      <th>prediction</th>\n",
       "      <th>actual</th>\n",
       "    </tr>\n",
       "    <tr>\n",
       "      <th>ticker</th>\n",
       "      <th>date</th>\n",
       "      <th></th>\n",
       "      <th></th>\n",
       "    </tr>\n",
       "  </thead>\n",
       "  <tbody>\n",
       "    <tr>\n",
       "      <th rowspan=\"5\" valign=\"top\">GBPJPY</th>\n",
       "      <th>2020-07-31 20:00:00</th>\n",
       "      <td>0.301269</td>\n",
       "      <td>-382.355386</td>\n",
       "    </tr>\n",
       "    <tr>\n",
       "      <th>2020-08-03 00:00:00</th>\n",
       "      <td>0.173575</td>\n",
       "      <td>1514.135826</td>\n",
       "    </tr>\n",
       "    <tr>\n",
       "      <th>2020-08-03 04:00:00</th>\n",
       "      <td>-3.149590</td>\n",
       "      <td>-1903.855882</td>\n",
       "    </tr>\n",
       "    <tr>\n",
       "      <th>2020-08-03 08:00:00</th>\n",
       "      <td>0.046480</td>\n",
       "      <td>-1365.217509</td>\n",
       "    </tr>\n",
       "    <tr>\n",
       "      <th>2020-08-03 12:00:00</th>\n",
       "      <td>1.848788</td>\n",
       "      <td>397.477828</td>\n",
       "    </tr>\n",
       "    <tr>\n",
       "      <th>...</th>\n",
       "      <th>...</th>\n",
       "      <td>...</td>\n",
       "      <td>...</td>\n",
       "    </tr>\n",
       "    <tr>\n",
       "      <th rowspan=\"5\" valign=\"top\">USDJPY</th>\n",
       "      <th>2022-10-27 20:00:00</th>\n",
       "      <td>-1.671610</td>\n",
       "      <td>916.621698</td>\n",
       "    </tr>\n",
       "    <tr>\n",
       "      <th>2022-10-28 00:00:00</th>\n",
       "      <td>15.502283</td>\n",
       "      <td>2376.563298</td>\n",
       "    </tr>\n",
       "    <tr>\n",
       "      <th>2022-10-28 04:00:00</th>\n",
       "      <td>-5.416951</td>\n",
       "      <td>-2253.498997</td>\n",
       "    </tr>\n",
       "    <tr>\n",
       "      <th>2022-10-28 08:00:00</th>\n",
       "      <td>2.789429</td>\n",
       "      <td>7912.608101</td>\n",
       "    </tr>\n",
       "    <tr>\n",
       "      <th>2022-10-28 12:00:00</th>\n",
       "      <td>8.158754</td>\n",
       "      <td>1890.558278</td>\n",
       "    </tr>\n",
       "  </tbody>\n",
       "</table>\n",
       "<p>21000 rows × 2 columns</p>\n",
       "</div>"
      ],
      "text/plain": [
       "                            prediction       actual\n",
       "ticker date                                        \n",
       "GBPJPY 2020-07-31 20:00:00    0.301269  -382.355386\n",
       "       2020-08-03 00:00:00    0.173575  1514.135826\n",
       "       2020-08-03 04:00:00   -3.149590 -1903.855882\n",
       "       2020-08-03 08:00:00    0.046480 -1365.217509\n",
       "       2020-08-03 12:00:00    1.848788   397.477828\n",
       "...                                ...          ...\n",
       "USDJPY 2022-10-27 20:00:00   -1.671610   916.621698\n",
       "       2022-10-28 00:00:00   15.502283  2376.563298\n",
       "       2022-10-28 04:00:00   -5.416951 -2253.498997\n",
       "       2022-10-28 08:00:00    2.789429  7912.608101\n",
       "       2022-10-28 12:00:00    8.158754  1890.558278\n",
       "\n",
       "[21000 rows x 2 columns]"
      ]
     },
     "execution_count": 454,
     "metadata": {},
     "output_type": "execute_result"
    }
   ],
   "source": [
    "predictions "
   ]
  },
  {
   "cell_type": "code",
   "execution_count": 455,
   "id": "b1900a46",
   "metadata": {},
   "outputs": [],
   "source": [
    "import sqlite3"
   ]
  },
  {
   "cell_type": "code",
   "execution_count": 456,
   "id": "d8108650",
   "metadata": {},
   "outputs": [
    {
     "data": {
      "text/plain": [
       "21000"
      ]
     },
     "execution_count": 456,
     "metadata": {},
     "output_type": "execute_result"
    }
   ],
   "source": [
    "conn = sqlite3.connect('datas.db')\n",
    "predictions.to_sql('first_lstm_predictions_300lag', conn, if_exists='replace', index=True)"
   ]
  },
  {
   "cell_type": "code",
   "execution_count": 457,
   "id": "89d7e031",
   "metadata": {},
   "outputs": [
    {
     "data": {
      "text/html": [
       "<div>\n",
       "<style scoped>\n",
       "    .dataframe tbody tr th:only-of-type {\n",
       "        vertical-align: middle;\n",
       "    }\n",
       "\n",
       "    .dataframe tbody tr th {\n",
       "        vertical-align: top;\n",
       "    }\n",
       "\n",
       "    .dataframe thead th {\n",
       "        text-align: right;\n",
       "    }\n",
       "</style>\n",
       "<table border=\"1\" class=\"dataframe\">\n",
       "  <thead>\n",
       "    <tr style=\"text-align: right;\">\n",
       "      <th></th>\n",
       "      <th>ticker</th>\n",
       "      <th>date</th>\n",
       "      <th>prediction</th>\n",
       "      <th>actual</th>\n",
       "    </tr>\n",
       "  </thead>\n",
       "  <tbody>\n",
       "    <tr>\n",
       "      <th>0</th>\n",
       "      <td>GBPJPY</td>\n",
       "      <td>2020-05-20 12:00:00</td>\n",
       "      <td>-0.158069</td>\n",
       "      <td>0.849392</td>\n",
       "    </tr>\n",
       "    <tr>\n",
       "      <th>1</th>\n",
       "      <td>GBPJPY</td>\n",
       "      <td>2020-05-20 16:00:00</td>\n",
       "      <td>-0.158069</td>\n",
       "      <td>-3.143320</td>\n",
       "    </tr>\n",
       "    <tr>\n",
       "      <th>2</th>\n",
       "      <td>GBPJPY</td>\n",
       "      <td>2020-05-20 20:00:00</td>\n",
       "      <td>-0.158069</td>\n",
       "      <td>0.737365</td>\n",
       "    </tr>\n",
       "    <tr>\n",
       "      <th>3</th>\n",
       "      <td>GBPJPY</td>\n",
       "      <td>2020-05-21 00:00:00</td>\n",
       "      <td>-0.158069</td>\n",
       "      <td>-0.456038</td>\n",
       "    </tr>\n",
       "    <tr>\n",
       "      <th>4</th>\n",
       "      <td>GBPJPY</td>\n",
       "      <td>2020-05-21 04:00:00</td>\n",
       "      <td>-0.158069</td>\n",
       "      <td>-1.544472</td>\n",
       "    </tr>\n",
       "  </tbody>\n",
       "</table>\n",
       "</div>"
      ],
      "text/plain": [
       "   ticker                 date  prediction    actual\n",
       "0  GBPJPY  2020-05-20 12:00:00   -0.158069  0.849392\n",
       "1  GBPJPY  2020-05-20 16:00:00   -0.158069 -3.143320\n",
       "2  GBPJPY  2020-05-20 20:00:00   -0.158069  0.737365\n",
       "3  GBPJPY  2020-05-21 00:00:00   -0.158069 -0.456038\n",
       "4  GBPJPY  2020-05-21 04:00:00   -0.158069 -1.544472"
      ]
     },
     "execution_count": 457,
     "metadata": {},
     "output_type": "execute_result"
    }
   ],
   "source": [
    "test = pd.read_sql_query(\"SELECT * FROM first_lstm_predictions\", conn)\n",
    "test.head()"
   ]
  },
  {
   "cell_type": "code",
   "execution_count": 458,
   "id": "914c922d",
   "metadata": {},
   "outputs": [],
   "source": [
    "conn.close()"
   ]
  }
 ],
 "metadata": {
  "kernelspec": {
   "display_name": "Python 3 (ipykernel)",
   "language": "python",
   "name": "python3"
  },
  "language_info": {
   "codemirror_mode": {
    "name": "ipython",
    "version": 3
   },
   "file_extension": ".py",
   "mimetype": "text/x-python",
   "name": "python",
   "nbconvert_exporter": "python",
   "pygments_lexer": "ipython3",
   "version": "3.9.13"
  }
 },
 "nbformat": 4,
 "nbformat_minor": 5
}

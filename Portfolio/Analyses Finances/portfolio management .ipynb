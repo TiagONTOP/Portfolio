{
 "cells": [
  {
   "cell_type": "markdown",
   "id": "0ba48994-206b-440c-8d6f-94bc722f3fd5",
   "metadata": {},
   "source": [
    "# Introduction\n",
    "\n",
    "La gestion de portefeuille est un domaine crucial de la finance. Il s'agit non seulement de sélectionner les bons investissements, mais aussi de comprendre comment les combiner de manière optimale pour atteindre un équilibre idéal entre le risque et le rendement. Un des modèles les plus célèbres et influents dans ce domaine est la Théorie Moderne du Portefeuille (TMP), introduite par Harry Markowitz en 1952.\n",
    "\n",
    "Le principe fondamental de la TMP est que les investisseurs cherchent à maximiser leur rendement pour un niveau de risque donné. C'est ici qu'intervient le concept de diversification - en combinant différents actifs dont les rendements ne sont pas parfaitement corrélés, on peut réaliser une performance globale plus stable et donc moins risquée.\n",
    "\n",
    "La variance du portefeuille, c'est-à-dire la variabilité de ses rendements, est souvent utilisée comme mesure du risque dans la TMP. En minimisant la variance, on cherche à rendre les rendements du portefeuille aussi stables et prévisibles que possible.\n",
    "\n",
    "Dans ce notebook, nous allons utiliser la TMP pour optimiser un portefeuille d'investissements. Nous utiliserons des techniques d'optimisation pour déterminer la répartition idéale des actifs qui minimisera la variance du portefeuille. Les poids que nous obtiendrons seront utilisés pour améliorer notre stratégie de trading.\n",
    "\n",
    "Nous allons passer par plusieurs étapes pour réaliser cela :\n",
    "\n",
    "-  **Collecte des données** : Nous utiliserons des données historiques sur les rendements des actifs dans notre portefeuille.\n",
    "\n",
    "- **Calcul des rendements et de la covariance** : Nous utiliserons ces données pour estimer les rendements attendus et la covariance des rendements des actifs.\n",
    "\n",
    "- **Optimisation du portefeuille** : Nous utiliserons un algorithme d'optimisation pour déterminer les poids de chaque actif dans le portefeuille qui minimisera la variance.\n",
    "\n",
    "En appliquant ces étapes, nous obtiendrons une stratégie d'investissement optimisée qui peut nous aider à prendre des décisions plus informées et, espérons-le, à obtenir de meilleurs rendements.\n",
    "\n",
    "Commençons donc sans plus tarder !"
   ]
  },
  {
   "cell_type": "code",
   "execution_count": 124,
   "id": "7b43049e",
   "metadata": {},
   "outputs": [
    {
     "data": {
      "text/plain": [
       "True"
      ]
     },
     "execution_count": 124,
     "metadata": {},
     "output_type": "execute_result"
    }
   ],
   "source": [
    "import pandas as pd\n",
    "import numpy as np\n",
    "import sqlite3\n",
    "import matplotlib.pyplot as plt\n",
    "import seaborn as sns\n",
    "from scipy.stats import skew, kurtosis, norm, spearmanr, pearsonr\n",
    "from scipy.optimize import minimize\n",
    "import MetaTrader5 as mt5\n",
    "import sys\n",
    "sys.path.append(r'C:\\Users\\ftiag\\Desktop\\Business, trading et investissement\\Business\\modules')\n",
    "from research_tools import get_clean_mt5_data\n",
    "\n",
    "mt5.initialize()\n",
    "\n",
    "login_mt5 = 1051534030\n",
    "mdp_mt5 = 'FG2SF2M74R'\n",
    "server = 'FTMO-Demo'\n",
    "\n",
    "mt5.login(login_mt5, mdp_mt5, server)"
   ]
  },
  {
   "cell_type": "markdown",
   "id": "36b76b13-dfdd-4fc4-a1a7-03751ed3aca1",
   "metadata": {},
   "source": [
    "Dans cette partie du code, nous commençons par définir les actifs de notre portefeuille. Ce sont les symboles des paires de devises que nous allons analyser. En utilisant les identifiants de ces paires `('GBPJPY', 'GBPUSD', 'EURGBP', 'EURUSD', 'USDCAD', 'USDJPY')`, nous pouvons obtenir les informations de marché pertinentes pour notre analyse.\n",
    "\n",
    "Nous utilisons ensuite une fonction appelée `get_clean_mt5_data` pour récupérer les données de ces actifs. Cette fonction fait partie d'un module personnel que j'ai créé pour faciliter l'analyse des données de marché. Elle utilise l'API MetaTrader 5 (MT5) pour récupérer les données de marché, et renvoie une version \"nettoyée\" de ces données.\n",
    "\n",
    "Le paramètre `interval` spécifie l'intervalle de temps pour les données que nous récupérons. Ici, nous utilisons mt5.TIMEFRAME_H4, ce qui signifie que nous récupérons des données sur un intervalle de 4 heures.\n",
    "\n",
    "Le paramètre `n_bars` spécifie le nombre de barres (ou périodes) que nous voulons récupérer. Ici, nous utilisons `5000`, ce qui signifie que nous récupérons les données des 5000 dernières périodes.\n",
    "\n",
    "Enfin, le `.close` à la fin de l'appel de la fonction signifie que nous nous intéressons uniquement aux prix de clôture pour chaque période.\n",
    "\n",
    "Voici donc comment nous pouvons lire cette ligne de code :\n",
    "\n",
    "\"Pour chaque paire de devises dans notre liste de tickers, récupérons les 5000 derniers prix de clôture sur des intervalles de 4 heures à l'aide de la fonction `get_clean_mt5_data` de notre module personnel.\""
   ]
  },
  {
   "cell_type": "code",
   "execution_count": 125,
   "id": "8128d995",
   "metadata": {},
   "outputs": [],
   "source": [
    "tickers = ['GBPJPY', 'GBPUSD', 'EURGBP', 'EURUSD', 'USDCAD', 'USDJPY']\n",
    "prices = get_clean_mt5_data(tickers, interval=mt5.TIMEFRAME_H4, n_bars=5000).close"
   ]
  },
  {
   "cell_type": "markdown",
   "id": "ddb89fd3-9320-45e0-883a-db7b1cc264e9",
   "metadata": {},
   "source": [
    "Maintenant que nous avons récupéré nos données de prix, nous devons les préparer pour notre analyse.\n",
    "\n",
    "La première ligne `prices = prices.unstack(0).fillna(method='ffill')` reformate les données de prix en une structure plus appropriée pour notre analyse. L'opération `unstack(0)` réorganise le DataFrame pour que chaque colonne corresponde à une paire de devises. `fillna(method='ffill')` remplit les valeurs manquantes avec la dernière valeur valide connue, ce qui garantit qu'il n'y a pas de trous dans nos données.\n",
    "\n",
    "Ensuite, nous initialisons nos poids avec une distribution uniforme, c'est-à-dire que nous supposons initialement que chaque actif dans notre portefeuille a le même poids. Nous utilisons l'expression `np.array([1/len(returns.columns)]*len(returns.columns))` pour cela.\n",
    "\n",
    "Nous définissons ensuite la fonction `minimize_variance`. Cette fonction prend un ensemble de poids et calcule la variance du portefeuille qui en résulte. Les rendements sont calculés en utilisant `prices.pct_change().dropna()`, qui calcule le changement en pourcentage des prix d'une période à l'autre. Ensuite, nous calculons la matrice de covariance des rendements avec `returns.cov()`, qui nous donne une mesure de la façon dont les rendements de différents actifs évoluent ensemble. La variance du portefeuille est calculée en utilisant `np.dot(np.dot(weights.T, cov), weights)`, qui est une formulation standard pour calculer la variance d'un portefeuille à partir des poids des actifs et de leur matrice de covariance.\n",
    "\n",
    "Nous définissons également une contrainte sur les poids dans la fonction `constraint1`. Cette contrainte garantit que la somme des poids est égale à 1, ce qui signifie que nous utilisons la totalité de notre capital pour investir.\n",
    "\n",
    "Ensuite, nous utilisons la fonction `minimize` du module d'optimisation `scipy.optimize` pour trouver les poids qui minimisent la variance du portefeuille. La méthode `SLSQP` (Sequential Least Squares Programming) est utilisée comme méthode d'optimisation. Les contraintes et les limites de poids sont également passées à la fonction `minimize`.\n",
    "\n",
    "La variable `result` contiendra les résultats de l'optimisation, y compris les poids optimaux du portefeuille."
   ]
  },
  {
   "cell_type": "code",
   "execution_count": 126,
   "id": "4fe7ccff",
   "metadata": {},
   "outputs": [],
   "source": [
    "prices = prices.unstack(0).fillna(method='ffill')\n",
    "index = prices.columns\n",
    "weights = np.array([1/len(returns.columns)]*len(returns.columns))\n",
    "def minimize_variance(weights):\n",
    "    weights.reshape(-1, 1)\n",
    "    returns = prices.pct_change().dropna()\n",
    "    cov = returns.cov()\n",
    "    portfolio_variance = float(np.dot(np.dot(weights.T, cov), weights))\n",
    "    return portfolio_variance * 10000\n",
    "\n",
    "def constraint1(x):\n",
    "    return np.sum(x) - 1\n",
    "\n",
    "con1 = {'type': 'eq', 'fun': constraint1}\n",
    "constraints = [con1]\n",
    "bnds = [(0, None) for _ in range(len(weights))]\n",
    "result = minimize(minimize_variance, weights, method='SLSQP', bounds=bnds, constraints=constraints)"
   ]
  },
  {
   "cell_type": "markdown",
   "id": "5602b5a1-ea7e-4824-aca6-71807d80d9e0",
   "metadata": {},
   "source": [
    "Dans le premier bloc de code, nous imprimons le résultat de notre optimisation. La sortie nous indique que l'optimisation a réussi. La clé 'fun' dans le dictionnaire de sortie est la valeur minimale de la fonction objectif, c'est-à-dire la variance minimale du portefeuille que nous avons trouvée. Les valeurs sous la clé 'x' sont les poids optimaux pour chaque actif de notre portefeuille qui minimisent la variance.\n",
    "\n",
    "Ensuite, nous créons un dictionnaire qui relie chaque paire de devises à son poids optimal dans le portefeuille. Nous utilisons la fonction `zip` pour combiner les indices (les noms des paires de devises) et les poids optimaux. Le résultat est un dictionnaire où chaque paire de devises est liée à son poids optimal.\n",
    "\n",
    "Finalement, nous sauvegardons ce dictionnaire de poids optimaux dans un fichier pickle pour une utilisation future. Le module `pickle` est utilisé pour sérialiser et désérialiser les objets Python. En sérialisant notre dictionnaire de poids optimaux, nous pouvons facilement le charger à partir du fichier pickle à une date ultérieure. Cela peut être particulièrement utile si le processus d'optimisation est coûteux en termes de temps et de ressources, car nous n'aurons pas à réexécuter l'optimisation chaque fois que nous aurons besoin des poids optimaux.\n",
    "\n",
    "Dans l'ensemble, ce bloc de code représente l'étape finale de notre processus d'optimisation du portefeuille. En minimisant la variance du portefeuille, nous avons créé une stratégie de portefeuille qui, selon la théorie moderne du portefeuille, devrait nous offrir le rendement le plus stable pour un niveau de risque donné."
   ]
  },
  {
   "cell_type": "code",
   "execution_count": 127,
   "id": "11b4de47",
   "metadata": {},
   "outputs": [
    {
     "data": {
      "text/plain": [
       " message: Optimization terminated successfully\n",
       " success: True\n",
       "  status: 0\n",
       "     fun: 0.002848667171112722\n",
       "       x: [ 3.019e-01  0.000e+00  0.000e+00  3.227e-01  2.466e-01\n",
       "            1.288e-01]\n",
       "     nit: 15\n",
       "     jac: [ 6.008e-03  1.128e-02  1.080e-02  5.310e-03  5.937e-03\n",
       "            5.483e-03]\n",
       "    nfev: 106\n",
       "    njev: 15"
      ]
     },
     "execution_count": 127,
     "metadata": {},
     "output_type": "execute_result"
    }
   ],
   "source": [
    "result"
   ]
  },
  {
   "cell_type": "code",
   "execution_count": 128,
   "id": "22627bef",
   "metadata": {},
   "outputs": [
    {
     "data": {
      "text/plain": [
       "{'EURGBP': 0.30189857553076915,\n",
       " 'EURUSD': 0.0,\n",
       " 'GBPJPY': 0.0,\n",
       " 'GBPUSD': 0.32268924221792383,\n",
       " 'USDCAD': 0.24659302521026463,\n",
       " 'USDJPY': 0.12881915704104258}"
      ]
     },
     "execution_count": 128,
     "metadata": {},
     "output_type": "execute_result"
    }
   ],
   "source": [
    "dict(zip(index, list(result.x)))"
   ]
  },
  {
   "cell_type": "code",
   "execution_count": 131,
   "id": "65b27c7d",
   "metadata": {},
   "outputs": [],
   "source": [
    "import pickle\n",
    "with open('weights.pkl', 'wb') as f:\n",
    "    pickle.dump(dict(zip(index, list(result.x))), f)"
   ]
  }
 ],
 "metadata": {
  "kernelspec": {
   "display_name": "Python 3 (ipykernel)",
   "language": "python",
   "name": "python3"
  },
  "language_info": {
   "codemirror_mode": {
    "name": "ipython",
    "version": 3
   },
   "file_extension": ".py",
   "mimetype": "text/x-python",
   "name": "python",
   "nbconvert_exporter": "python",
   "pygments_lexer": "ipython3",
   "version": "3.9.16"
  }
 },
 "nbformat": 4,
 "nbformat_minor": 5
}

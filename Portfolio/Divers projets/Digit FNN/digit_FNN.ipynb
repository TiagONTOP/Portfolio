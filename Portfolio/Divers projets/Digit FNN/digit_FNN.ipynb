{
 "cells": [
  {
   "cell_type": "markdown",
   "id": "fb0f0a1d-bdba-456e-9452-e7d8524d505e",
   "metadata": {},
   "source": [
    "# Prédiction des chiffres manuscrits avec un réseau de neurones feedforward\n",
    "\n",
    "Dans ce notebook, nous allons explorer le puissant monde de l'apprentissage profond en utilisant un réseau de neurones feedforward (FNN) pour prédire des chiffres manuscrits. Nous utiliserons le célèbre jeu de données MNIST, qui est une collection de 70 000 images de chiffres manuscrits de 0 à 9. Chaque image est en niveaux de gris et mesure 28x28 pixels, ce qui en fait un excellent point de départ pour l'apprentissage profond en raison de sa simplicité.\n",
    "\n",
    "## Structure du notebook\n",
    "\n",
    "Le notebook est organisé de la manière suivante :\n",
    "\n",
    "1. **Importation des bibliothèques nécessaires** : Nous commençons par importer toutes les bibliothèques nécessaires pour notre analyse. Cela comprend pandas et numpy pour la manipulation des données, matplotlib pour la visualisation des données, et bien sûr, tensorflow pour construire et entraîner notre modèle de réseau de neurones.\n",
    "\n",
    "2. **Chargement et prétraitement des données** : Nous chargeons le jeu de données MNIST à l'aide de la fonction `load_data` de tensorflow. Ensuite, nous normalisons les images en divisant chaque pixel par la valeur maximale (255), ce qui nous donne des valeurs de pixel entre 0 et 1. \n",
    "\n",
    "3. **Construction du modèle** : Nous construisons notre modèle FNN à l'aide de l'API Keras dans tensorflow. Notre modèle est constitué de trois couches denses, avec la fonction d'activation ReLU pour les deux premières couches et la fonction d'activation softmax pour la couche de sortie.\n",
    "\n",
    "4. **Entraînement du modèle** : Nous compilons notre modèle avec l'optimiseur Adam, et la perte de \"sparse_categorical_crossentropy\", qui est appropriée pour la classification multiclasse. Ensuite, nous entraînons le modèle sur notre jeu de données d'entraînement pendant trois époques.\n",
    "\n",
    "5. **Évaluation du modèle** : Nous évaluons la performance de notre modèle sur le jeu de données de test et affichons la perte et la précision.\n",
    "\n",
    "6. **Prédiction sur une nouvelle image** : Enfin, nous utilisons notre modèle entraîné pour prédire un chiffre à partir d'une nouvelle image.\n",
    "\n",
    "Ce notebook démontre comment un réseau de neurones peut être utilisé pour la tâche complexe de la reconnaissance des chiffres manuscrits. Alors, commençons notre exploration du monde fascinant de l'apprentissage profond."
   ]
  },
  {
   "cell_type": "markdown",
   "id": "7b25255e-3b7b-4033-87a3-c6cf5374f5bf",
   "metadata": {},
   "source": [
    "\n",
    "\n",
    "\n",
    "\n",
    "\n",
    "\n"
   ]
  },
  {
   "cell_type": "markdown",
   "id": "27b34090-7a99-4805-8420-fd115e01d6b4",
   "metadata": {},
   "source": [
    "\n"
   ]
  },
  {
   "cell_type": "markdown",
   "id": "10bab5d8-b431-46bb-a249-b5b3c5e48157",
   "metadata": {},
   "source": [
    "Le code ci-dessous est organisé en plusieurs étapes clés de prétraitement des données, de création et d'entraînement d'un modèle de réseau de neurones, et enfin de l'évaluation du modèle. \n",
    "\n",
    "1. **Importation des bibliothèques** : Les bibliothèques nécessaires à l'exécution de ce script sont importées. Cela comprend 'pandas' et 'numpy' pour la manipulation des données, 'matplotlib.pyplot' pour la visualisation des données, 'tensorflow.keras' pour la construction et l'entraînement des modèles de réseau de neurones, et 'cv2' (OpenCV) pour la manipulation d'images.\n",
    "\n",
    "2. **Chargement des données** : Le jeu de données MNIST est chargé à l'aide de la fonction `mnist.load_data()` de Keras, qui retourne deux tuples contenant les données d'entraînement et de test respectivement.\n",
    "\n",
    "3. **Prétraitement des données** : Les données d'entraînement et de test sont normalisées pour que toutes les valeurs de pixel se situent entre 0 et 1. Cela se fait en utilisant la fonction `normalize` de Keras.\n",
    "\n",
    "4. **Création du modèle de réseau de neurones** : Un modèle séquentiel est créé avec trois couches. Les deux premières couches sont des couches denses (fully connected) avec 128 neurones chacune et utilisent la fonction d'activation ReLU. La dernière couche est également une couche dense avec 10 neurones (correspondant aux 10 classes de chiffres de 0 à 9) et utilise la fonction d'activation softmax pour prédire la probabilité de chaque classe.\n",
    "\n",
    "5. **Compilation du modèle** : Le modèle est compilé avec l'optimiseur 'adam', qui est une méthode de descente de gradient stochastique adaptative. La fonction de perte utilisée est 'sparse_categorical_crossentropy', qui est appropriée pour des problèmes de classification multiclasse où les classes sont des entiers (par opposition à des vecteurs one-hot). La métrique d'évaluation utilisée est l'exactitude ('accuracy').\n",
    "\n",
    "6. **Entraînement du modèle** : Le modèle est entraîné sur les données d'entraînement pendant 3 époques.\n",
    "\n",
    "7. **Évaluation du modèle** : Le modèle est évalué sur les données de test en utilisant la méthode `evaluate`. Cela retourne la perte et l'exactitude du modèle sur les données de test. Dans ce cas, la perte est d'environ 0.091 et l'exactitude est d'environ 97.12%, indiquant que le modèle a une performance élevée dans la prédiction des chiffres manuscrits sur les données de test."
   ]
  },
  {
   "cell_type": "code",
   "execution_count": 27,
   "id": "a390affa",
   "metadata": {},
   "outputs": [],
   "source": [
    "import pandas as pd\n",
    "import numpy as np \n",
    "import matplotlib.pyplot as plt\n",
    "from tensorflow.keras.datasets import mnist\n",
    "from tensorflow.keras.utils import normalize\n",
    "from tensorflow.keras import models\n",
    "from tensorflow.keras import layers\n",
    "import tensorflow as tf\n",
    "import cv2 as cv"
   ]
  },
  {
   "cell_type": "code",
   "execution_count": 21,
   "id": "8900c960",
   "metadata": {},
   "outputs": [],
   "source": [
    "(X_train, y_train), (X_test, y_test) = mnist.load_data()"
   ]
  },
  {
   "cell_type": "code",
   "execution_count": 22,
   "id": "a9b4ff8a",
   "metadata": {},
   "outputs": [],
   "source": [
    "X_train = normalize(X_train, axis=1)\n",
    "X_test = normalize(X_test, axis=1)"
   ]
  },
  {
   "cell_type": "code",
   "execution_count": 23,
   "id": "48bdeed7",
   "metadata": {},
   "outputs": [],
   "source": [
    "model = models.Sequential()\n",
    "model.add(layers.Flatten(input_shape=(28, 28)))\n",
    "model.add(layers.Dense(units=128, activation=tf.nn.relu))\n",
    "model.add(layers.Dense(units=128, activation=tf.nn.relu))\n",
    "model.add(layers.Dense(units=10, activation=tf.nn.softmax))\n",
    "model.compile(optimizer='adam', loss='sparse_categorical_crossentropy', metrics=['accuracy'])"
   ]
  },
  {
   "cell_type": "code",
   "execution_count": 24,
   "id": "f928c97a",
   "metadata": {},
   "outputs": [
    {
     "name": "stdout",
     "output_type": "stream",
     "text": [
      "Epoch 1/3\n",
      "1875/1875 [==============================] - 6s 2ms/step - loss: 0.2609 - accuracy: 0.9240\n",
      "Epoch 2/3\n",
      "1875/1875 [==============================] - 4s 2ms/step - loss: 0.1070 - accuracy: 0.9663\n",
      "Epoch 3/3\n",
      "1875/1875 [==============================] - 5s 3ms/step - loss: 0.0736 - accuracy: 0.9768\n",
      "313/313 [==============================] - 1s 2ms/step - loss: 0.0908 - accuracy: 0.9712\n"
     ]
    }
   ],
   "source": [
    "model.fit(X_train, y_train, epochs=3)\n",
    "loss, accuracy = model.evaluate(X_test, y_test)"
   ]
  },
  {
   "cell_type": "code",
   "execution_count": 25,
   "id": "32303b50",
   "metadata": {},
   "outputs": [
    {
     "name": "stdout",
     "output_type": "stream",
     "text": [
      "0.09084444493055344 0.9711999893188477\n"
     ]
    }
   ],
   "source": [
    "print(loss, accuracy)"
   ]
  },
  {
   "cell_type": "markdown",
   "id": "44e59490-dd1e-4e50-9076-54c8f3f437e7",
   "metadata": {},
   "source": [
    "Cette partie du code teste la capacité du modèle de réseau de neurones entraîné à prédire un chiffre manuscrit à partir d'une image que vous avez créée vous-même.\n",
    "\n",
    "Voici une explication détaillée du code:\n",
    "\n",
    "1. **Chargement de l'image**: L'image 'digit.png', qui contient un chiffre que vous avez écrit manuellement (l'image doit être en format 28x28), est chargée en utilisant la fonction `imread` de OpenCV. L'image est en couleur et le code `[:,:,0]` extrait le premier canal de couleur (rouge dans le cas d'une image en couleur RGB) car le modèle de réseau de neurones est entraîné sur des images en niveaux de gris.\n",
    "\n",
    "2. **Inversion de l'image**: Comme les images du jeu de données MNIST sont des images en niveaux de gris où le chiffre est en blanc sur un fond noir, nous devons inverser notre image (qui est probablement un chiffre noir sur un fond blanc) pour correspondre à ce format. C'est ce que fait la fonction `np.invert`.\n",
    "\n",
    "3. **Prédiction**: Le modèle de réseau de neurones est utilisé pour prédire le chiffre de l'image. Comme le modèle a été construit pour prédire les probabilités de chaque classe (chiffre), la fonction `np.argmax` est utilisée pour sélectionner la classe qui a la probabilité la plus élevée. Le chiffre prédit par le modèle est affiché.\n",
    "\n",
    "4. **Affichage de l'image**: Enfin, l'image est affichée à l'aide de `plt.imshow` pour vous permettre de visualiser le chiffre que vous avez écrit et qui est utilisé pour la prédiction.\n",
    "\n",
    "Dans votre cas, le chiffre écrit était un '6', et le modèle a correctement prédit ce chiffre, ce qui démontre la capacité du modèle à lire correctement les chiffres manuscrits, y compris ceux qui ne faisaient pas partie du jeu de données d'entraînement original."
   ]
  },
  {
   "cell_type": "code",
   "execution_count": 30,
   "id": "61964baf",
   "metadata": {},
   "outputs": [],
   "source": [
    "img = cv.imread('digit.png')[:, :, 0]\n",
    "img = np.invert(np.array([img]))"
   ]
  },
  {
   "cell_type": "code",
   "execution_count": 32,
   "id": "3ad33af9",
   "metadata": {},
   "outputs": [
    {
     "name": "stdout",
     "output_type": "stream",
     "text": [
      "Prediction : 6\n"
     ]
    },
    {
     "data": {
      "text/plain": [
       "<matplotlib.image.AxesImage at 0x193ea7731f0>"
      ]
     },
     "execution_count": 32,
     "metadata": {},
     "output_type": "execute_result"
    },
    {
     "data": {
      "image/png": "[encoded data removed]",
      "text/plain": [
       "<Figure size 640x480 with 1 Axes>"
      ]
     },
     "metadata": {},
     "output_type": "display_data"
    }
   ],
   "source": [
    "prediction = model.predict(img)\n",
    "print(\"Prediction : {}\".format(np.argmax(prediction)))\n",
    "plt.imshow(img[0])"
   ]
  }
 ],
 "metadata": {
  "kernelspec": {
   "display_name": "Python 3 (ipykernel)",
   "language": "python",
   "name": "python3"
  },
  "language_info": {
   "codemirror_mode": {
    "name": "ipython",
    "version": 3
   },
   "file_extension": ".py",
   "mimetype": "text/x-python",
   "name": "python",
   "nbconvert_exporter": "python",
   "pygments_lexer": "ipython3",
   "version": "3.9.16"
  }
 },
 "nbformat": 4,
 "nbformat_minor": 5
}
